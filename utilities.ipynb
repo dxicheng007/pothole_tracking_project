{
 "cells": [
  {
   "cell_type": "markdown",
   "metadata": {},
   "source": [
    "## Generate a master.kml file from all kml files in a folder"
   ]
  },
  {
   "cell_type": "code",
   "execution_count": 3,
   "metadata": {},
   "outputs": [
    {
     "name": "stdout",
     "output_type": "stream",
     "text": [
      "Detected encoding: UTF-16\n",
      "Detected encoding: UTF-16\n",
      "Detected encoding: UTF-16\n",
      "Detected encoding: UTF-16\n",
      "Master KML file created with enhanced visibility settings.\n"
     ]
    }
   ],
   "source": [
    "import os\n",
    "import chardet\n",
    "\n",
    "# Path to the folder containing KML files\n",
    "folder_path = 'data/pothole-videos'\n",
    "master_kml_path = os.path.join(folder_path, 'master.kml')\n",
    "\n",
    "# Generate the Master KML content\n",
    "with open(master_kml_path, 'w') as master_kml:\n",
    "    master_kml.write('<?xml version=\"1.0\" encoding=\"UTF-8\"?>\\n')\n",
    "    master_kml.write('<kml xmlns=\"http://www.opengis.net/kml/2.2\" xmlns:atom=\"http://www.w3.org/2005/Atom\" xmlns:gx=\"http://www.google.com/kml/ext/2.2\">\\n')\n",
    "    master_kml.write('  <Document>\\n')\n",
    "    master_kml.write('    <name>All Tracks</name>\\n')\n",
    "    master_kml.write('    <open>1</open>\\n')\n",
    "    master_kml.write('    <visibility>1</visibility>\\n')\n",
    "\n",
    "    # Loop through each KML file in the folder\n",
    "    for file_name in os.listdir(folder_path):\n",
    "        if file_name.endswith('.kml') and file_name != 'master.kml':\n",
    "            kml_path = os.path.join(folder_path, file_name)\n",
    "            \n",
    "            with open(kml_path, 'rb') as f:\n",
    "                raw_data = f.read(10000)  # Read a sample\n",
    "                result = chardet.detect(raw_data)\n",
    "\n",
    "            encoding = result['encoding']\n",
    "            print(f\"Detected encoding: {encoding}\")\n",
    "\n",
    "            # Read each KML file's content and embed it directly\n",
    "            with open(kml_path, 'r', encoding=encoding) as kml_file:\n",
    "                inside_document = False\n",
    "                for line in kml_file:\n",
    "                    # Skip XML header, <kml> tags, and outer <Document> tags\n",
    "                    if line.strip().startswith('<?xml') or line.strip().startswith('<kml'):\n",
    "                        continue\n",
    "                    if '<Document>' in line:\n",
    "                        inside_document = True\n",
    "                        continue\n",
    "                    if '</Document>' in line:\n",
    "                        inside_document = False\n",
    "                        continue\n",
    "                    \n",
    "                    # Only add content inside the original Document tags\n",
    "                    if inside_document:\n",
    "                        # Add <open> and <visibility> tags to relevant elements\n",
    "                        if \"<Placemark>\" in line or \"<Folder>\" in line:\n",
    "                            master_kml.write(line)\n",
    "                            master_kml.write('      <open>1</open>\\n')\n",
    "                            master_kml.write('      <visibility>1</visibility>\\n')\n",
    "                        else:\n",
    "                            master_kml.write(line)\n",
    "    \n",
    "    master_kml.write('  </Document>\\n')\n",
    "    master_kml.write('</kml>\\n')\n",
    "\n",
    "print(\"Master KML file created with enhanced visibility settings.\")\n"
   ]
  },
  {
   "cell_type": "markdown",
   "metadata": {},
   "source": [
    "## Extract GPS coordinates from a MP4 video"
   ]
  },
  {
   "cell_type": "code",
   "execution_count": 2,
   "metadata": {},
   "outputs": [
    {
     "name": "stdout",
     "output_type": "stream",
     "text": [
      "Coords: [[-121.8431, 39.7286]]  length of Coords:  1\n"
     ]
    }
   ],
   "source": [
    "#  A function to get the GPS coordinates from a video\n",
    "import os\n",
    "video_path = 'data/2024-12-30Chico/GX010013.MP4'\n",
    "def get_gps_coords(video_path):\n",
    "    # exiftool -p kml.fmt -ee3 data/2024-12-30Chico/GX010013.MP4 > data/2024-12-30Chico/GX010013.MP4.kml\n",
    "    cmd = f'exiftool -p kml.fmt -ee3 {video_path} > {video_path}.kml'\n",
    "    os.system(cmd)\n",
    "    coords = [] # list of coordinates\n",
    "    with open(f'{video_path}.kml', 'r') as f:\n",
    "        lines = f.readlines()\n",
    "\n",
    "    for line in lines:\n",
    "        if 'coordinates' in line:\n",
    "            # sample: <coordinates>-121.7889676,39.7399915,0</coordinates>\n",
    "            line = line.replace('<coordinates>', '').replace(',0</coordinates>', '')\n",
    "            coords.append([float(x) for x in line.split(',')])\n",
    "\n",
    "    return coords\n",
    "coords=get_gps_coords(video_path) # get the GPS coordinates from the video exif data\n",
    "print(\"Coords:\", coords, \" length of Coords: \", len(coords))"
   ]
  },
  {
   "cell_type": "markdown",
   "metadata": {},
   "source": [
    "# Split or combine video files"
   ]
  },
  {
   "cell_type": "code",
   "execution_count": null,
   "metadata": {},
   "outputs": [],
   "source": [
    "#Splitting the video into smaller videos and keeping the GPS coordinates\n",
    "\n",
    "# check the metadata of the video\n",
    "# exiftool -ee -G3 \"data/2024-12-30Chico/GX010013_0-3.MP4\"\n",
    "\n",
    "# Split the video into smaller segments\n",
    "# ffmpeg -i \"data/2024-12-30Chico/GX010013.MP4\" -ss 0:0:0 -to 0:0:3 -copy_unknown -map_metadata 0 -c copy -map 0:u \"data/2024-12-30Chico/GX010013_0-3.MP4\"\n",
    "# ffmpeg -i \"GX011222.MP4\" -ss 0:0:0 -to 0:0:5 -copy_unknown -map_metadata 0 -c copy -map 0:u \"GX011222_0-5.MP4\"\n",
    "\n",
    "# for Windows\n",
    "# ffmpeg -i \"GX011222.MP4\" -ss 0:0:0 -to 0:0:6 -copy_unknown -map_metadata 0 -c copy -map 0:0 -map 0:1 -map 0:3 \"GX011222_0-6.MP4\"\n",
    "\n",
    "import os\n",
    "import subprocess\n",
    "video_path = 'data/2024-12-30Chico/GX010013.MP4'\n",
    "coords = get_gps_coords(video_path)\n",
    "split_dir = video_path.replace('.MP4', '')\n",
    "os.makedirs(split_dir, exist_ok=True)\n",
    "for i, coord in enumerate(coords):\n",
    "    # Split the video into smaller segments\n",
    "    start_time = i\n",
    "    end_time = i + 1\n",
    "    split_video_path = os.path.join(split_dir, f'split_{i}.MP4')\n",
    "    cmd = f'ffmpeg -i {video_path} -ss {start_time} -to {end_time} -c copy {split_video_path}'\n",
    "    subprocess.run(cmd, shell=True)\n",
    "    # Get the GPS coordinates for each segment\n",
    "    with open(f'{split_video_path}.kml', 'w') as f:\n",
    "        f.write(f'<coordinates>{coord[0]},{coord[1]},0</coordinates>')  # Write the GPS coordinates to the KML file\n",
    "print(\"Splitting the video into smaller videos and keeping the GPS coordinates done.\")\n",
    "\n"
   ]
  },
  {
   "cell_type": "code",
   "execution_count": null,
   "metadata": {},
   "outputs": [],
   "source": [
    "# Downsize a video file from 120 fps to 24 fps, preserve the meta data including GPS info:\n",
    "# ffmpeg -i \"GX011216_14-22.MP4\" -vf \"fps=12\" -map_metadata 0 -movflags use_metadata_tags \"GX011216_14-22_12fps.MP4\"\n"
   ]
  }
 ],
 "metadata": {
  "kernelspec": {
   "display_name": "venv",
   "language": "python",
   "name": "python3"
  },
  "language_info": {
   "codemirror_mode": {
    "name": "ipython",
    "version": 3
   },
   "file_extension": ".py",
   "mimetype": "text/x-python",
   "name": "python",
   "nbconvert_exporter": "python",
   "pygments_lexer": "ipython3",
   "version": "3.10.12"
  }
 },
 "nbformat": 4,
 "nbformat_minor": 2
}
